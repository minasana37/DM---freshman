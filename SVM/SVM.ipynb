{
 "cells": [
  {
   "cell_type": "code",
   "execution_count": 1,
   "id": "4cfa2650-9c7d-4c99-8fa2-ecc743a53029",
   "metadata": {},
   "outputs": [],
   "source": [
    "import numpy as np\n",
    "import pandas as pd\n",
    "from sklearn.svm import SVC\n",
    "from sklearn.preprocessing import StandardScaler\n",
    "from sklearn.metrics import roc_curve, roc_auc_score, auc\n",
    "from sklearn.model_selection import GridSearchCV\n",
    "import matplotlib.pyplot as plt"
   ]
  },
  {
   "cell_type": "code",
   "execution_count": 45,
   "id": "74ee8058-2288-4521-92b5-e65f1d85963b",
   "metadata": {},
   "outputs": [],
   "source": [
    "# Load the full data\n",
    "train_data = pd.read_csv(\"group_37.csv\")\n",
    "test_data = pd.read_csv(\"arcene_test (for groups 32-38).csv\")\n",
    "same_features = train_data.columns[1:]\n",
    "test_data = test_data[[\"Class\"] + list(same_features)]"
   ]
  },
  {
   "cell_type": "code",
   "execution_count": 46,
   "id": "c01b7d7c-b82b-41f5-9758-5a046821e8b9",
   "metadata": {},
   "outputs": [],
   "source": [
    "# Divide features and target variable\n",
    "X_train = train_data.iloc[:, 1:].values\n",
    "y_train = train_data.iloc[:, 0].values\n",
    "X_test = test_data.iloc[:, 1:].values\n",
    "y_test  = test_data.iloc[:, 0].values"
   ]
  },
  {
   "cell_type": "code",
   "execution_count": 47,
   "id": "0465f023-660a-4a57-8c75-51485e547734",
   "metadata": {},
   "outputs": [],
   "source": [
    "# Standardize features\n",
    "std = StandardScaler()\n",
    "X_train = std.fit_transform(X_train)\n",
    "X_test = std.transform(X_test)"
   ]
  },
  {
   "cell_type": "code",
   "execution_count": 48,
   "id": "5843cf80-aa6f-45f1-9312-594feac74bb7",
   "metadata": {},
   "outputs": [
    {
     "name": "stdout",
     "output_type": "stream",
     "text": [
      "0.75\n",
      "0.8713474025974026\n"
     ]
    }
   ],
   "source": [
    "# Fit svm model\n",
    "svm_model = SVC(probability = True)\n",
    "svm_model.fit(X_train, y_train)\n",
    "# Accuracy\n",
    "print(svm_model.score(X_test, y_test))\n",
    "# AUC score\n",
    "y_proba = svm_model.predict_proba(X_test)[:, 1]\n",
    "print(roc_auc_score(y_test, y_proba))"
   ]
  },
  {
   "cell_type": "code",
   "execution_count": 53,
   "id": "43a5863a-ae6e-4ca6-b091-0e7035a60ce1",
   "metadata": {},
   "outputs": [
    {
     "name": "stdout",
     "output_type": "stream",
     "text": [
      "{'C': 0.01, 'gamma': 'scale', 'kernel': 'linear'}\n",
      "0.9676767676767677\n",
      "0.84\n",
      "0.9301948051948051\n"
     ]
    }
   ],
   "source": [
    "# Hyperparameter of grid search \n",
    "params = {\n",
    "    \"kernel\": (\"linear\", \"rbf\", \"poly\"),\n",
    "    \"C\" : [ 0.01, 0.1, 0.5, 1, 2, 10, 100],\n",
    "    \"gamma\": [\"scale\", \"auto\", 0.01, 0.1, 1]\n",
    "}\n",
    "\n",
    "# Grid search and print the best parameters\n",
    "svm_model = SVC(probability = True)\n",
    "gridsearch = GridSearchCV(svm_model, params, scoring = \"roc_auc\")\n",
    "gridsearch.fit(X_train, y_train)\n",
    "print(gridsearch.best_params_)\n",
    "print(gridsearch.best_score_)\n",
    "\n",
    "# Use the best model\n",
    "svm_best = gridsearch.best_estimator_\n",
    "print(svm_best.score(X_test, y_test))\n",
    "y_proba = svm_best.predict_proba(X_test)[:,1]\n",
    "print(roc_auc_score(y_test, y_proba))"
   ]
  },
  {
   "cell_type": "code",
   "execution_count": 23,
   "id": "908a0620-fa6d-4af7-8f46-b3bc31dcfa8b",
   "metadata": {
    "scrolled": true
   },
   "outputs": [
    {
     "data": {
      "text/plain": [
       "<matplotlib.legend.Legend at 0x1ba7d5193a0>"
      ]
     },
     "execution_count": 23,
     "metadata": {},
     "output_type": "execute_result"
    },
    {
     "data": {
      "image/png": "[encoded data removed]",
      "text/plain": [
       "<Figure size 600x600 with 1 Axes>"
      ]
     },
     "metadata": {},
     "output_type": "display_data"
    }
   ],
   "source": [
    "# Plot the ROC\n",
    "fpr, tpr, _ = roc_curve(y_test, y_proba)\n",
    "roc_auc = auc(fpr, tpr)\n",
    "plt.figure(figsize = (6,6))\n",
    "plt.plot(fpr, tpr, color = \"blue\", lw = 1, label = \"AUC {:.2f}\".format(roc_auc))\n",
    "plt.xlabel(\"False Positive Rate\")\n",
    "plt.ylabel(\"True Positive Rate\")\n",
    "plt.title(\"ROC Curve\")\n",
    "plt.legend(loc = \"center\")"
   ]
  },
  {
   "cell_type": "code",
   "execution_count": 63,
   "id": "fa7a2100-e7bf-42c6-bcf3-c866d8d74c2b",
   "metadata": {},
   "outputs": [],
   "source": [
    "# Load the filtered data \n",
    "train_data = pd.read_csv(\"traindata3.csv\")\n",
    "test_data = pd.read_csv(\"testdata3.csv\")\n",
    "# Divide features and target variable\n",
    "X_train = train_data.iloc[:, :-1].values\n",
    "y_train = train_data.iloc[:, -1].values\n",
    "X_test = test_data.iloc[:, :-1].values\n",
    "y_test  = test_data.iloc[:, -1].values\n",
    "# Standardize features\n",
    "X_train = std.fit_transform(X_train)\n",
    "X_test = std.transform(X_test)"
   ]
  },
  {
   "cell_type": "code",
   "execution_count": 64,
   "id": "0706346e-a2a0-4dab-a995-3ea33459a10a",
   "metadata": {},
   "outputs": [
    {
     "name": "stdout",
     "output_type": "stream",
     "text": [
      "0.78\n",
      "0.9017857142857143\n"
     ]
    }
   ],
   "source": [
    "# Fit svm model\n",
    "svm_model = SVC(C = 1, probability = True)\n",
    "svm_model.fit(X_train, y_train)\n",
    "print(svm_model.score(X_test, y_test))\n",
    "y_proba = svm_model.predict_proba(X_test)[:,1]\n",
    "print(roc_auc_score(y_test, y_proba))"
   ]
  },
  {
   "cell_type": "code",
   "execution_count": 65,
   "id": "fb59c284-ede0-48cf-bcb5-4b20cb532ba0",
   "metadata": {},
   "outputs": [
    {
     "name": "stdout",
     "output_type": "stream",
     "text": [
      "{'C': 10, 'gamma': 'scale', 'kernel': 'rbf'}\n",
      "0.9595959595959596\n",
      "0.88\n",
      "0.9484577922077922\n"
     ]
    }
   ],
   "source": [
    "# Hyperparameter of grid search \n",
    "params = {\n",
    "    \"kernel\": (\"linear\", \"rbf\", \"poly\"),\n",
    "    \"C\" : [ 0.01, 0.1, 0.5, 1, 2, 10, 100],\n",
    "    \"gamma\": [\"scale\", \"auto\", 0.01, 0.1, 1]\n",
    "}\n",
    "\n",
    "# Grid search and print the best parameters\n",
    "svm_model = SVC(probability = True)\n",
    "gridsearch = GridSearchCV(svm_model, params, scoring = \"roc_auc\")\n",
    "gridsearch.fit(X_train, y_train)\n",
    "print(gridsearch.best_params_)\n",
    "print(gridsearch.best_score_)\n",
    "\n",
    "# Use the best model\n",
    "svm_best = gridsearch.best_estimator_\n",
    "print(svm_best.score(X_test, y_test))\n",
    "y_proba = svm_best.predict_proba(X_test)[:,1]\n",
    "print(roc_auc_score(y_test, y_proba))"
   ]
  },
  {
   "cell_type": "code",
   "execution_count": 57,
   "id": "f95ab5f2-ec85-4fad-8cb7-7e638fbca322",
   "metadata": {},
   "outputs": [
    {
     "data": {
      "text/plain": [
       "<matplotlib.legend.Legend at 0x1ba014c3770>"
      ]
     },
     "execution_count": 57,
     "metadata": {},
     "output_type": "execute_result"
    },
    {
     "data": {
      "image/png": "[encoded data removed]",
      "text/plain": [
       "<Figure size 600x600 with 1 Axes>"
      ]
     },
     "metadata": {},
     "output_type": "display_data"
    }
   ],
   "source": [
    "# Plot the ROCs\n",
    "fpr, tpr, _ = roc_curve(y_test, y_proba)\n",
    "roc_auc = auc(fpr, tpr)\n",
    "plt.figure(figsize = (6,6))\n",
    "plt.plot(fpr, tpr, color = \"blue\", lw = 1, label = \"AUC {:.2f}\".format(roc_auc))\n",
    "plt.xlabel(\"False Positive Rate\")\n",
    "plt.ylabel(\"True Positive Rate\")\n",
    "plt.title(\"ROC Curve\")\n",
    "plt.legend(loc = \"center\")"
   ]
  },
  {
   "cell_type": "code",
   "execution_count": 58,
   "id": "118c21c0-9e48-40d2-bea2-c6dcdfcfbca6",
   "metadata": {},
   "outputs": [],
   "source": [
    "# Load the filtered data \n",
    "train_data = pd.read_csv(\"traindata.csv\")\n",
    "test_data = pd.read_csv(\"testdata.csv\")\n",
    "# Divide features and target variable\n",
    "X_train = train_data.iloc[:, :-1].values\n",
    "y_train = train_data.iloc[:, -1].values\n",
    "X_test = test_data.iloc[:, :-1].values\n",
    "y_test  = test_data.iloc[:, -1].values\n",
    "# Standardize features\n",
    "X_train = std.fit_transform(X_train)\n",
    "X_test = std.transform(X_test)"
   ]
  },
  {
   "cell_type": "code",
   "execution_count": 59,
   "id": "32cdb5bb-288f-4e95-8d36-10ae49f9b8d5",
   "metadata": {},
   "outputs": [
    {
     "name": "stdout",
     "output_type": "stream",
     "text": [
      "0.81\n",
      "0.9257305194805194\n"
     ]
    }
   ],
   "source": [
    "# Fit svm model\n",
    "svm_model = SVC(C = 1, probability = True)\n",
    "svm_model.fit(X_train, y_train)\n",
    "print(svm_model.score(X_test, y_test))\n",
    "y_proba = svm_model.predict_proba(X_test)[:,1]\n",
    "print(roc_auc_score(y_test, y_proba))"
   ]
  },
  {
   "cell_type": "code",
   "execution_count": 60,
   "id": "31624992-1190-4ea1-80f4-729b14a4bf7d",
   "metadata": {},
   "outputs": [
    {
     "name": "stdout",
     "output_type": "stream",
     "text": [
      "{'C': 2, 'gamma': 'scale', 'kernel': 'rbf'}\n",
      "0.8912337662337662\n",
      "0.81\n",
      "0.9237012987012987\n"
     ]
    }
   ],
   "source": [
    "# Hyperparameter of grid search \n",
    "params = {\n",
    "    \"kernel\": (\"linear\", \"rbf\", \"poly\"),\n",
    "    \"C\" : [ 0.01, 0.1, 0.5, 1, 2, 10, 100],\n",
    "    \"gamma\": [\"scale\", \"auto\", 0.01, 0.1, 1]\n",
    "}\n",
    "\n",
    "# Grid search and print the best parameters\n",
    "svm_model = SVC(probability = True)\n",
    "gridsearch = GridSearchCV(svm_model, params, scoring = \"roc_auc\", cv =4)\n",
    "gridsearch.fit(X_train, y_train)\n",
    "print(gridsearch.best_params_)\n",
    "print(gridsearch.best_score_)\n",
    "\n",
    "# Use the best model\n",
    "svm_best = gridsearch.best_estimator_\n",
    "print(svm_best.score(X_test, y_test))\n",
    "y_proba = svm_best.predict_proba(X_test)[:,1]\n",
    "print(roc_auc_score(y_test, y_proba))"
   ]
  },
  {
   "cell_type": "code",
   "execution_count": 61,
   "id": "e79938ca-c390-4d78-8d6f-8720a5d4d723",
   "metadata": {},
   "outputs": [
    {
     "data": {
      "text/plain": [
       "<matplotlib.legend.Legend at 0x1ba7d3d8410>"
      ]
     },
     "execution_count": 61,
     "metadata": {},
     "output_type": "execute_result"
    },
    {
     "data": {
      "image/png": "[encoded data removed]",
      "text/plain": [
       "<Figure size 600x600 with 1 Axes>"
      ]
     },
     "metadata": {},
     "output_type": "display_data"
    }
   ],
   "source": [
    "# Plot the ROCs\n",
    "fpr, tpr, _ = roc_curve(y_test, y_proba)\n",
    "roc_auc = auc(fpr, tpr)\n",
    "plt.figure(figsize = (6,6))\n",
    "plt.plot(fpr, tpr, color = \"blue\", lw = 1, label = \"AUC {:.2f}\".format(roc_auc))\n",
    "plt.xlabel(\"False Positive Rate\")\n",
    "plt.ylabel(\"True Positive Rate\")\n",
    "plt.title(\"ROC Curve\")\n",
    "plt.legend(loc = \"center\")"
   ]
  },
  {
   "cell_type": "code",
   "execution_count": null,
   "id": "3ae2cca0-617e-4209-aba0-353e0e4d1280",
   "metadata": {},
   "outputs": [],
   "source": []
  }
 ],
 "metadata": {
  "kernelspec": {
   "display_name": "Python 3 (ipykernel)",
   "language": "python",
   "name": "python3"
  },
  "language_info": {
   "codemirror_mode": {
    "name": "ipython",
    "version": 3
   },
   "file_extension": ".py",
   "mimetype": "text/x-python",
   "name": "python",
   "nbconvert_exporter": "python",
   "pygments_lexer": "ipython3",
   "version": "3.12.7"
  }
 },
 "nbformat": 4,
 "nbformat_minor": 5
}
